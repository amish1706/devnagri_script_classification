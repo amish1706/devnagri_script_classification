{
 "cells": [
  {
   "cell_type": "code",
   "execution_count": 1,
   "source": [
    "# Importing libraries\r\n",
    "import tensorflow as tf\r\n",
    "import cv2\r\n",
    "import pandas as pd\r\n",
    "import os\r\n",
    "import numpy as np"
   ],
   "outputs": [],
   "metadata": {}
  },
  {
   "cell_type": "code",
   "execution_count": 3,
   "source": [
    "# loading classes\r\n",
    "classes = os.listdir(\"./Data/Train\")\r\n",
    "print(classes)"
   ],
   "outputs": [
    {
     "output_type": "stream",
     "name": "stdout",
     "text": [
      "['character_10_yna', 'character_11_taamatar', 'character_12_thaa', 'character_13_daa', 'character_14_dhaa', 'character_15_adna', 'character_16_tabala', 'character_17_tha', 'character_18_da', 'character_19_dha', 'character_1_ka', 'character_20_na', 'character_21_pa', 'character_22_pha', 'character_23_ba', 'character_24_bha', 'character_25_ma', 'character_26_yaw', 'character_27_ra', 'character_28_la', 'character_29_waw', 'character_2_kha', 'character_30_motosaw', 'character_31_petchiryakha', 'character_32_patalosaw', 'character_33_ha', 'character_34_chhya', 'character_35_tra', 'character_36_gya', 'character_3_ga', 'character_4_gha', 'character_5_kna', 'character_6_cha', 'character_7_chha', 'character_8_ja', 'character_9_jha', 'digit_0', 'digit_1', 'digit_2', 'digit_3', 'digit_4', 'digit_5', 'digit_6', 'digit_7', 'digit_8', 'digit_9']\n"
     ]
    }
   ],
   "metadata": {}
  },
  {
   "cell_type": "code",
   "execution_count": 4,
   "source": [
    "# loading training image data into an array using openCV\r\n",
    "X = []\r\n",
    "for c,i in enumerate(classes):\r\n",
    "    for j in os.listdir(\"./Data/Train/\"+i):\r\n",
    "        img = cv2.imread(\"./Data/Train/\"+i+\"/\"+j)\r\n",
    "        X.append(img)"
   ],
   "outputs": [],
   "metadata": {}
  },
  {
   "cell_type": "code",
   "execution_count": 5,
   "source": [
    "import matplotlib.pyplot as plt"
   ],
   "outputs": [],
   "metadata": {}
  },
  {
   "cell_type": "code",
   "execution_count": 6,
   "source": [
    "# loading target training data\r\n",
    "Y = []\r\n",
    "for i in range(0,len(X)):\r\n",
    "    Y.append(i//1700)"
   ],
   "outputs": [],
   "metadata": {}
  },
  {
   "cell_type": "code",
   "execution_count": 7,
   "source": [
    "X = np.array(X)\r\n",
    "Y = np.array(Y)"
   ],
   "outputs": [],
   "metadata": {}
  },
  {
   "cell_type": "code",
   "execution_count": 8,
   "source": [
    "Y.reshape(-1)"
   ],
   "outputs": [
    {
     "output_type": "execute_result",
     "data": {
      "text/plain": [
       "array([ 0,  0,  0, ..., 45, 45, 45])"
      ]
     },
     "metadata": {},
     "execution_count": 8
    }
   ],
   "metadata": {}
  },
  {
   "cell_type": "code",
   "execution_count": 9,
   "source": [
    "# shuffling the dataset\r\n",
    "from sklearn.utils import shuffle\r\n",
    "X, Y = shuffle(X, Y)"
   ],
   "outputs": [],
   "metadata": {}
  },
  {
   "cell_type": "code",
   "execution_count": 10,
   "source": [
    "X = np.array(X)\r\n",
    "Y = np.array(Y)"
   ],
   "outputs": [],
   "metadata": {}
  },
  {
   "cell_type": "code",
   "execution_count": 11,
   "source": [
    "Y.reshape(-1)"
   ],
   "outputs": [
    {
     "output_type": "execute_result",
     "data": {
      "text/plain": [
       "array([35, 40, 26, ..., 14,  1, 11])"
      ]
     },
     "metadata": {},
     "execution_count": 11
    }
   ],
   "metadata": {}
  },
  {
   "cell_type": "code",
   "execution_count": 12,
   "source": [
    "# visualizing the dataset\r\n",
    "no = 2\r\n",
    "plt.imshow(X[no])\r\n",
    "plt.xlabel(classes[Y[no]])"
   ],
   "outputs": [
    {
     "output_type": "execute_result",
     "data": {
      "text/plain": [
       "Text(0.5, 0, 'character_34_chhya')"
      ]
     },
     "metadata": {},
     "execution_count": 12
    },
    {
     "output_type": "display_data",
     "data": {
      "image/png": "[encoded data removed]",
      "text/plain": [
       "<Figure size 432x288 with 1 Axes>"
      ]
     },
     "metadata": {
      "needs_background": "light"
     }
    }
   ],
   "metadata": {}
  },
  {
   "cell_type": "code",
   "execution_count": 13,
   "source": [
    "from sklearn.model_selection import train_test_split"
   ],
   "outputs": [],
   "metadata": {}
  },
  {
   "cell_type": "code",
   "execution_count": 14,
   "source": [
    "# train-test split\r\n",
    "train_x, val_x, train_y, val_y = train_test_split(X, Y, test_size=0.05, random_state=0)"
   ],
   "outputs": [],
   "metadata": {}
  },
  {
   "cell_type": "code",
   "execution_count": 15,
   "source": [
    "train_y.reshape(-1)\r\n",
    "val_y.reshape(-1)"
   ],
   "outputs": [
    {
     "output_type": "execute_result",
     "data": {
      "text/plain": [
       "array([35,  2,  0, ..., 33, 13, 15])"
      ]
     },
     "metadata": {},
     "execution_count": 15
    }
   ],
   "metadata": {}
  },
  {
   "cell_type": "code",
   "execution_count": 2,
   "source": [
    "# 46 total classes\r\n",
    "NUM_CLASSES = 46"
   ],
   "outputs": [],
   "metadata": {}
  },
  {
   "cell_type": "code",
   "execution_count": 17,
   "source": [
    "tensorboard_callback = tf.keras.callbacks.TensorBoard(log_dir=\"./logs\", update_freq='batch')\r\n",
    "# tensorboard --logdir=\"E:\\Amish\\CnA Hackathon\\logs\""
   ],
   "outputs": [],
   "metadata": {}
  },
  {
   "cell_type": "code",
   "execution_count": 3,
   "source": [
    "# importing ResNet34 model architecture\r\n",
    "from ResNet import ResNet34\r\n",
    "model_res = ResNet34(NUM_CLASSES)"
   ],
   "outputs": [],
   "metadata": {}
  },
  {
   "cell_type": "code",
   "execution_count": 19,
   "source": [
    "# defining Early Stopping callback to stop traing when the val_accuracy becomes greater than a certain value\r\n",
    "class EarlyStopping(tf.keras.callbacks.Callback):\r\n",
    "    def __init__(self, monitor='val_accuracy', value=0.995, verbose=0):\r\n",
    "        super(tf.keras.callbacks.Callback, self).__init__()\r\n",
    "        self.monitor = monitor\r\n",
    "        self.value = value\r\n",
    "        self.verbose = verbose\r\n",
    "\r\n",
    "    def on_epoch_end(self, epoch, logs={}):\r\n",
    "        current = logs.get(self.monitor)\r\n",
    "       \r\n",
    "        if current > self.value:\r\n",
    "            print(\"Epoch %05d: early stopping THR\" % epoch)\r\n",
    "            self.model.stop_training = True"
   ],
   "outputs": [],
   "metadata": {}
  },
  {
   "cell_type": "code",
   "execution_count": 20,
   "source": [
    "# compiling the model\r\n",
    "model_res.compile(loss='sparse_categorical_crossentropy', \r\n",
    "                  optimizer=tf.keras.optimizers.Adam(learning_rate=0.001), \r\n",
    "                  metrics=[tf.keras.metrics.CategoricalAccuracy(), 'accuracy'])\r\n",
    "# training the model for 10 epochs\r\n",
    "model_res.fit(train_x, train_y, epochs=10,\r\n",
    "          callbacks=[tensorboard_callback,EarlyStopping()],\r\n",
    "          validation_data=(val_x, val_y))"
   ],
   "outputs": [
    {
     "output_type": "stream",
     "name": "stdout",
     "text": [
      "Epoch 1/10\n",
      "2322/2322 [==============================] - 277s 117ms/step - loss: 0.7027 - categorical_accuracy: 0.0223 - accuracy: 0.8011 - val_loss: 0.4179 - val_categorical_accuracy: 0.0174 - val_accuracy: 0.8967\n",
      "Epoch 2/10\n",
      "2322/2322 [==============================] - 290s 125ms/step - loss: 0.1064 - categorical_accuracy: 0.0209 - accuracy: 0.9678 - val_loss: 0.1268 - val_categorical_accuracy: 0.0251 - val_accuracy: 0.9611\n",
      "Epoch 3/10\n",
      "2322/2322 [==============================] - 266s 115ms/step - loss: 0.0703 - categorical_accuracy: 0.0209 - accuracy: 0.9792 - val_loss: 0.0935 - val_categorical_accuracy: 0.0256 - val_accuracy: 0.9772\n",
      "Epoch 4/10\n",
      "2322/2322 [==============================] - 325s 140ms/step - loss: 0.0524 - categorical_accuracy: 0.0215 - accuracy: 0.9847 - val_loss: 0.0615 - val_categorical_accuracy: 0.0274 - val_accuracy: 0.9831\n",
      "Epoch 5/10\n",
      "2322/2322 [==============================] - 337s 145ms/step - loss: 0.0387 - categorical_accuracy: 0.0214 - accuracy: 0.9880 - val_loss: 0.0792 - val_categorical_accuracy: 0.0258 - val_accuracy: 0.9788\n",
      "Epoch 6/10\n",
      "2322/2322 [==============================] - 264s 114ms/step - loss: 0.0327 - categorical_accuracy: 0.0213 - accuracy: 0.9902 - val_loss: 0.0873 - val_categorical_accuracy: 0.0274 - val_accuracy: 0.9780\n",
      "Epoch 7/10\n",
      "2322/2322 [==============================] - 263s 113ms/step - loss: 0.0236 - categorical_accuracy: 0.0222 - accuracy: 0.9935 - val_loss: 0.0437 - val_categorical_accuracy: 0.0261 - val_accuracy: 0.9870\n",
      "Epoch 8/10\n",
      "2322/2322 [==============================] - 271s 117ms/step - loss: 0.0190 - categorical_accuracy: 0.0207 - accuracy: 0.9942 - val_loss: 0.0416 - val_categorical_accuracy: 0.0258 - val_accuracy: 0.9895\n",
      "Epoch 9/10\n",
      "2322/2322 [==============================] - 272s 117ms/step - loss: 0.0161 - categorical_accuracy: 0.0216 - accuracy: 0.9950 - val_loss: 0.1110 - val_categorical_accuracy: 0.0258 - val_accuracy: 0.9760\n",
      "Epoch 10/10\n",
      "2322/2322 [==============================] - 264s 114ms/step - loss: 0.0160 - categorical_accuracy: 0.0229 - accuracy: 0.9960 - val_loss: 0.0360 - val_categorical_accuracy: 0.0256 - val_accuracy: 0.9905\n"
     ]
    },
    {
     "output_type": "execute_result",
     "data": {
      "text/plain": [
       "<tensorflow.python.keras.callbacks.History at 0x20dc3e4c460>"
      ]
     },
     "metadata": {},
     "execution_count": 20
    }
   ],
   "metadata": {}
  },
  {
   "cell_type": "code",
   "execution_count": 23,
   "source": [
    "# Evaluting on the validation dataset\r\n",
    "model_res.evaluate(val_x, val_y)"
   ],
   "outputs": [
    {
     "output_type": "stream",
     "name": "stdout",
     "text": [
      "123/123 [==============================] - 4s 30ms/step - loss: 0.0360 - categorical_accuracy: 0.0256 - accuracy: 0.9905\n"
     ]
    },
    {
     "output_type": "execute_result",
     "data": {
      "text/plain": [
       "[0.03604639694094658, 0.02557544782757759, 0.9905371069908142]"
      ]
     },
     "metadata": {},
     "execution_count": 23
    }
   ],
   "metadata": {}
  },
  {
   "cell_type": "code",
   "execution_count": 24,
   "source": [
    "model_res.save(\"resnet_model\")"
   ],
   "outputs": [
    {
     "output_type": "stream",
     "name": "stdout",
     "text": [
      "INFO:tensorflow:Assets written to: resnet_model\\assets\n"
     ]
    }
   ],
   "metadata": {}
  },
  {
   "cell_type": "code",
   "execution_count": 25,
   "source": [
    "# loading the test images\r\n",
    "X_test = []\r\n",
    "for dirs in os.listdir(\"./Data/Test\"):\r\n",
    "    X_test.append(cv2.imread(\"./Data/Test/\"+ dirs))\r\n",
    "X_test = np.array(X_test)"
   ],
   "outputs": [],
   "metadata": {}
  },
  {
   "cell_type": "code",
   "execution_count": 26,
   "source": [
    "# getting predictions\r\n",
    "ypred = model_res.predict(X_test)\r\n",
    "# storing the predictions after converting then into class names\r\n",
    "y_pred = []\r\n",
    "for i in range(len(X_test)):\r\n",
    "    y_pred.append(np.argmax(ypred[i]))\r\n",
    "sub = [] \r\n",
    "i = 0\r\n",
    "for dirs in os.listdir(\"./Data/Test\"):\r\n",
    "    sub.append((dirs, classes[y_pred[i]]))\r\n",
    "    i+=1"
   ],
   "outputs": [],
   "metadata": {}
  },
  {
   "cell_type": "code",
   "execution_count": 27,
   "source": [
    "# saving the predictions in csv file\r\n",
    "submission = pd.DataFrame(sub)\r\n",
    "submission = submission.rename(columns = {1:\"Category\", 0:\"Id\"})\r\n",
    "submission.set_index('Id', inplace=True)\r\n",
    "submission.to_csv(\"submission.csv\")"
   ],
   "outputs": [],
   "metadata": {}
  }
 ],
 "metadata": {
  "orig_nbformat": 4,
  "language_info": {
   "name": "python",
   "version": "3.8.11",
   "mimetype": "text/x-python",
   "codemirror_mode": {
    "name": "ipython",
    "version": 3
   },
   "pygments_lexer": "ipython3",
   "nbconvert_exporter": "python",
   "file_extension": ".py"
  },
  "kernelspec": {
   "name": "python3",
   "display_name": "Python 3.8.11 64-bit ('tf2-gpu': conda)"
  },
  "interpreter": {
   "hash": "ce9241549650588f234d12c02b91e0d3550d6f6cc7b1eea88e70ed4e9777c474"
  }
 },
 "nbformat": 4,
 "nbformat_minor": 2
}